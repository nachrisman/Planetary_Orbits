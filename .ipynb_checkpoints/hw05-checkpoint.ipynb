{
 "cells": [
  {
   "cell_type": "code",
   "execution_count": 12,
   "metadata": {
    "collapsed": false
   },
   "outputs": [],
   "source": [
    "import outerplanets"
   ]
  },
  {
   "cell_type": "code",
   "execution_count": 15,
   "metadata": {
    "collapsed": false
   },
   "outputs": [
    {
     "name": "stdout",
     "output_type": "stream",
     "text": [
      "Simulating Uranus and Neptune orbits WITHOUT interactions\n",
      "Simulating Uranus and Neptune orbits WITH interactions\n",
      "Uranus anomaly plotted in uranus_anomaly.pdf\n"
     ]
    }
   ],
   "source": [
    "import matplotlib\n",
    "import matplotlib.pyplot as plt\n",
    "matplotlib.style.use(\"ggplot\")\n",
    "\n",
    "\n",
    "print(\"Simulating Uranus and Neptune orbits WITHOUT interactions\")\n",
    "time, r0, v0 = integrate_orbits(t_max=160, coupled=False)\n",
    "rU0 = r0[:, 0]\n",
    "vU0 = v0[:, 0]\n",
    "omegaU0 = omega(vU0, rU0)\n",
    "\n",
    "print(\"Simulating Uranus and Neptune orbits WITH interactions\")\n",
    "time, r, v = integrate_orbits(t_max=160, coupled=True)\n",
    "rU = r[:, 0]\n",
    "rN = r[:, 1]\n",
    "vU = v[:, 0]\n",
    "omegaU = omega(vU, rU)\n",
    "\n",
    "DeltaOmegaU = omegaU - omegaU0\n",
    "\n",
    "# plot orbits\n",
    "fig_orbits = \"uranus_neptune_orbits.pdf\"\n",
    "fig_anomaly = \"uranus_anomaly.pdf\"\n",
    "\n",
    "ax = plt.subplot(1,2,1)\n",
    "ax.plot(rU[:,0], rU[:, 1], label=\"Uranus\")\n",
    "ax.plot(rN[:,0], rN[:, 1], label=\"Neptune\")\n",
    "ax.plot(rU0[:,0], rU0[:,1], linestyle=\"--\", label=\"Uranus (no Neptune)\")\n",
    "ax.set_aspect(1)\n",
    "ax.set_xlabel(r\"$x$ (AU)\")\n",
    "ax.set_ylabel(r\"$y$ (AU)\")\n",
    "ax.legend(loc=\"upper right\")\n",
    "ax.set_title(\"Uranus and Neptune orbits\")\n",
    "\n",
    "ax = plt.subplot(1,2,2)\n",
    "ax.plot(time, DeltaOmegaU)\n",
    "ax.set_xlabel(\"years\")\n",
    "ax.set_ylabel(r\"Uranus anomaly $\\Delta\\omega_U$\")\n",
    "ax.set_title(\"Uranus anomaly\")\n",
    "ax.figure.tight_layout()\n",
    "ax.figure.savefig(fig_anomaly)\n",
    "print(\"Uranus anomaly plotted in {0}\".format(fig_anomaly))"
   ]
  },
  {
   "cell_type": "code",
   "execution_count": null,
   "metadata": {
    "collapsed": true
   },
   "outputs": [],
   "source": []
  }
 ],
 "metadata": {
  "anaconda-cloud": {},
  "kernelspec": {
   "display_name": "Python [default]",
   "language": "python",
   "name": "python3"
  },
  "language_info": {
   "codemirror_mode": {
    "name": "ipython",
    "version": 3
   },
   "file_extension": ".py",
   "mimetype": "text/x-python",
   "name": "python",
   "nbconvert_exporter": "python",
   "pygments_lexer": "ipython3",
   "version": "3.5.2"
  }
 },
 "nbformat": 4,
 "nbformat_minor": 1
}
